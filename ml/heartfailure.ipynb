import pandas as pd

heart_data = pd.read_csv('heart_failure_clinical_records_dataset.csv')
abnormal_sodium = heart_data[heart_data['sodium'] < 135]
num_abnormal_sodium = len(abnormal_sodium)